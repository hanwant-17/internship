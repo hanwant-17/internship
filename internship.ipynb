{
  "nbformat": 4,
  "nbformat_minor": 0,
  "metadata": {
    "colab": {
      "provenance": [],
      "authorship_tag": "ABX9TyP85uI1VZZd5jWGXSD7oKnE",
      "include_colab_link": true
    },
    "kernelspec": {
      "name": "python3",
      "display_name": "Python 3"
    },
    "language_info": {
      "name": "python"
    }
  },
  "cells": [
    {
      "cell_type": "markdown",
      "metadata": {
        "id": "view-in-github",
        "colab_type": "text"
      },
      "source": [
        "<a href=\"https://colab.research.google.com/github/hanwant-17/internship/blob/main/internship.ipynb\" target=\"_parent\"><img src=\"https://colab.research.google.com/assets/colab-badge.svg\" alt=\"Open In Colab\"/></a>"
      ]
    },
    {
      "cell_type": "code",
      "execution_count": null,
      "metadata": {
        "colab": {
          "base_uri": "https://localhost:8080/"
        },
        "id": "HOW2aXVA6NDp",
        "outputId": "d70af92e-ee6a-4aa7-dce7-9279facfacbc"
      },
      "outputs": [
        {
          "output_type": "stream",
          "name": "stdout",
          "text": [
            "hellow world-hellow Hanwant singh\n"
          ]
        }
      ],
      "source": [
        "print(\"hellow world\",end = \"-\")\n",
        "print(\"hellow Hanwant singh\")"
      ]
    },
    {
      "cell_type": "code",
      "source": [
        "x=\"10\"\n",
        "print(type(x))\n",
        "year=2023\n",
        "company=\"Turing\"\n",
        "print(f\"Hello {company} year {year}\") # we can use f with variables also"
      ],
      "metadata": {
        "colab": {
          "base_uri": "https://localhost:8080/"
        },
        "id": "y4hFqgjH62xo",
        "outputId": "e1e5b6f6-1f00-4129-fc03-c631ccce3019"
      },
      "execution_count": null,
      "outputs": [
        {
          "output_type": "stream",
          "name": "stdout",
          "text": [
            "<class 'str'>\n",
            "Hello Turing year 2023\n"
          ]
        }
      ]
    },
    {
      "cell_type": "code",
      "source": [
        "a=100\n",
        "b=200\n",
        "c=300\n",
        "if a>b and a>c:\n",
        "    print(\"a is greater\")\n",
        "elif b>a and b>c:\n",
        "    print(\"b is greater\")\n",
        "elif c>a and c>b:\n",
        "    print(\"c is greater\")"
      ],
      "metadata": {
        "colab": {
          "base_uri": "https://localhost:8080/"
        },
        "id": "Zk0tAHOM7FJA",
        "outputId": "0d41ea96-153a-4a64-c90c-fa8368c06991"
      },
      "execution_count": null,
      "outputs": [
        {
          "output_type": "stream",
          "name": "stdout",
          "text": [
            "c is greater\n"
          ]
        }
      ]
    },
    {
      "cell_type": "code",
      "source": [
        "age=int(input(\"Enter your age: \"))\n",
        "if age >=18 and age<25:\n",
        "    print(\"Adult\")\n",
        "elif age >= 25 and age < 35:\n",
        "    print(\"married\")\n",
        "elif age >= 35:\n",
        "    print(\"cityzen\")\n",
        "else:\n",
        "    print(\"child\")"
      ],
      "metadata": {
        "colab": {
          "base_uri": "https://localhost:8080/"
        },
        "id": "OsgpcvMJ7W9-",
        "outputId": "993092a7-47ad-4140-ac61-ab62c5409f46"
      },
      "execution_count": null,
      "outputs": [
        {
          "output_type": "stream",
          "name": "stdout",
          "text": [
            "Enter your age: 45\n",
            "cityzen\n"
          ]
        }
      ]
    },
    {
      "cell_type": "code",
      "source": [
        "a=int(input(\"Enter a number: \"))\n",
        "if a%2==0:\n",
        "    print(\"Even\")\n",
        "else:\n",
        "    print(\"Odd\")"
      ],
      "metadata": {
        "colab": {
          "base_uri": "https://localhost:8080/"
        },
        "id": "oBczaxcC7jT5",
        "outputId": "0238bb7c-79fd-4d8e-ed54-06702f20fe47"
      },
      "execution_count": null,
      "outputs": [
        {
          "output_type": "stream",
          "name": "stdout",
          "text": [
            "Enter a number: 43\n",
            "Odd\n"
          ]
        }
      ]
    },
    {
      "cell_type": "code",
      "source": [
        "year=int(input(\"Enter year: \"))\n",
        "if year%4==0 and year%100!=0 or year%400==0:\n",
        "    print(\"Leap year\")\n",
        "else:\n",
        "    print(\"Not a leap year\")"
      ],
      "metadata": {
        "colab": {
          "base_uri": "https://localhost:8080/"
        },
        "id": "etb7z-vB7tco",
        "outputId": "eab0981f-36c4-4c2e-b0e1-2316e4b88571"
      },
      "execution_count": null,
      "outputs": [
        {
          "output_type": "stream",
          "name": "stdout",
          "text": [
            "Enter year: 2004\n",
            "Leap year\n"
          ]
        }
      ]
    },
    {
      "cell_type": "code",
      "source": [
        "grade=int(input(\"Enter your grade: \"))\n",
        "if grade>=90:\n",
        "    print(\"A\")\n",
        "elif grade>=80:\n",
        "    print(\"B\")\n",
        "elif grade>=70:\n",
        "    print(\"C\")\n",
        "elif grade>=60:\n",
        "    print(\"D\")\n",
        "else:\n",
        "    print(\"F\")"
      ],
      "metadata": {
        "colab": {
          "base_uri": "https://localhost:8080/"
        },
        "id": "j-bhPTPd75t9",
        "outputId": "e20c8ae3-05e0-43fa-d06e-a9d496f5a83a"
      },
      "execution_count": null,
      "outputs": [
        {
          "output_type": "stream",
          "name": "stdout",
          "text": [
            "Enter your grade: 99\n",
            "A\n"
          ]
        }
      ]
    },
    {
      "cell_type": "code",
      "source": [
        "a=int(input(\"Enter a number: \"))\n",
        "b=int(input(\"Enter a number: \"))\n",
        "operator=input(\"Enter an operator: \")\n",
        "if operator=='+':\n",
        "    print(a+b)\n",
        "elif operator=='-':\n",
        "    print(a-b)\n",
        "elif operator=='*':\n",
        "    print(a*b)\n",
        "elif operator=='/':\n",
        "    if b!=0:\n",
        "        print(a/b)\n",
        "    else:\n",
        "        print(\"Cannot divide by zero\")"
      ],
      "metadata": {
        "colab": {
          "base_uri": "https://localhost:8080/"
        },
        "id": "vJSWL7Vh8Dei",
        "outputId": "9a58c926-14ef-4cec-df30-ef8cc199e3fa"
      },
      "execution_count": null,
      "outputs": [
        {
          "output_type": "stream",
          "name": "stdout",
          "text": [
            "Enter a number: 2\n",
            "Enter a number: 6\n",
            "Enter an operator: +\n",
            "8\n"
          ]
        }
      ]
    },
    {
      "cell_type": "code",
      "source": [
        "a=int(input(\"Enter a number: \"))\n",
        "if a>=1:\n",
        "    print(\"Positive\")\n",
        "elif a<0:\n",
        "    print(\"Negative\")\n",
        "else:\n",
        "    print(\"Zero\")"
      ],
      "metadata": {
        "colab": {
          "base_uri": "https://localhost:8080/"
        },
        "id": "1yg1pAL38O15",
        "outputId": "3f954f40-d68e-4280-8124-a337c7cf8cf9"
      },
      "execution_count": null,
      "outputs": [
        {
          "output_type": "stream",
          "name": "stdout",
          "text": [
            "Enter a number: 67\n",
            "Positive\n"
          ]
        }
      ]
    },
    {
      "cell_type": "code",
      "source": [
        "username=input(\"Enter username: \")\n",
        "password=input(\"Enter password: \")\n",
        "if username==\"admin\" and password==\"1234\":\n",
        "    print(\"Login successful\")\n",
        "else:\n",
        "    print(\"Login failed\")"
      ],
      "metadata": {
        "colab": {
          "base_uri": "https://localhost:8080/"
        },
        "id": "WFWgKcJo8cBU",
        "outputId": "a03ae680-0958-4f87-c543-c35edc0d6bf5"
      },
      "execution_count": null,
      "outputs": [
        {
          "output_type": "stream",
          "name": "stdout",
          "text": [
            "Enter username: hanwant\n",
            "Enter password: 123423\n",
            "Login failed\n"
          ]
        }
      ]
    },
    {
      "cell_type": "code",
      "source": [
        "a=int(input(\"Enter the first side of triangle: \"))\n",
        "b=int(input(\"Enter the second side of triangle: \"))\n",
        "c=int(input(\"Enter the third side of triangle: \"))\n",
        "if a+b>c and a+c>b and b+c>a:\n",
        "    print(\"Triangle is valid\")\n",
        "else:\n",
        "    print(\"Triangle is not valid\")"
      ],
      "metadata": {
        "colab": {
          "base_uri": "https://localhost:8080/"
        },
        "id": "e_okddzN8lS1",
        "outputId": "2a9efbd1-8a9d-46dd-b7d0-4d66aa19f070"
      },
      "execution_count": null,
      "outputs": [
        {
          "output_type": "stream",
          "name": "stdout",
          "text": [
            "Enter the first side of triangle: 4\n",
            "Enter the second side of triangle: 5\n",
            "Enter the third side of triangle: 7\n",
            "Triangle is valid\n"
          ]
        }
      ]
    },
    {
      "cell_type": "code",
      "source": [
        "w=int(input(\"Enter the weight(in kg):\"))\n",
        "h=int(input(\"Enter the height(in m):\"))\n",
        "bmi=w/(h*h)\n",
        "if bmi<18.5:\n",
        "    print(\"Underweight\")\n",
        "elif bmi>=18.5 and bmi<24.9:\n",
        "    print(\"Normal weight\")\n",
        "elif bmi>=25 and bmi<29.9:\n",
        "    print(\"Overweight\")\n",
        "else:\n",
        "    print(\"Obesity\")"
      ],
      "metadata": {
        "colab": {
          "base_uri": "https://localhost:8080/"
        },
        "id": "Zui4TamK8sWk",
        "outputId": "4a094bd5-e3b8-4bb9-aa25-3e9bb3002abb"
      },
      "execution_count": null,
      "outputs": [
        {
          "output_type": "stream",
          "name": "stdout",
          "text": [
            "Enter the weight(in kg):44\n",
            "Enter the height(in m):556\n",
            "Underweight\n"
          ]
        }
      ]
    },
    {
      "cell_type": "code",
      "source": [
        "p=int(input(\"Enter the peice of the product: \"))\n",
        "q=int(input(\"Enter the quantity of the product: \"))\n",
        "d=int(input(\"Enter the discount: \"))\n",
        "if d>0:\n",
        "    total=p*q\n",
        "    discount=total*d/100\n",
        "    total=total-discount\n",
        "    print(\"Total amount after discount is: \",total)\n",
        "else:\n",
        "    print(\"Discount is not applicable\")"
      ],
      "metadata": {
        "colab": {
          "base_uri": "https://localhost:8080/"
        },
        "id": "g9XxVgPC8tXE",
        "outputId": "07ba8419-45b5-4694-d7e2-3daa24a96046"
      },
      "execution_count": null,
      "outputs": [
        {
          "output_type": "stream",
          "name": "stdout",
          "text": [
            "Enter the peice of the product: 500\n",
            "Enter the quantity of the product: 6\n",
            "Enter the discount: 50\n",
            "Total amount after discount is:  1500.0\n"
          ]
        }
      ]
    },
    {
      "cell_type": "code",
      "source": [
        "#Swapping two numbers without using a third variable\n",
        "a=10\n",
        "b=30\n",
        "a=a^b\n",
        "b=b^a\n",
        "a=a^b\n",
        "print(\"a=\",a)\n",
        "print(\"b=\",b)"
      ],
      "metadata": {
        "colab": {
          "base_uri": "https://localhost:8080/"
        },
        "id": "Tl1KH2Rd8zHz",
        "outputId": "35068f02-cb47-4870-c93e-fd391513a4bc"
      },
      "execution_count": null,
      "outputs": [
        {
          "output_type": "stream",
          "name": "stdout",
          "text": [
            "a= 30\n",
            "b= 10\n"
          ]
        }
      ]
    },
    {
      "cell_type": "code",
      "source": [
        "a=10\n",
        "for i in range(1,a+1):\n",
        "  if a%i==0:\n",
        "    print(i,\"is the factor of\",a)"
      ],
      "metadata": {
        "colab": {
          "base_uri": "https://localhost:8080/"
        },
        "id": "UEQbWT6LAhOz",
        "outputId": "1b139424-cb88-4843-ea4a-2a6b28d05998"
      },
      "execution_count": null,
      "outputs": [
        {
          "output_type": "stream",
          "name": "stdout",
          "text": [
            "1 is the factor of 10\n",
            "2 is the factor of 10\n",
            "5 is the factor of 10\n",
            "10 is the factor of 10\n"
          ]
        }
      ]
    },
    {
      "cell_type": "code",
      "source": [
        "a=45\n",
        "count=0\n",
        "for i in range(1,a+1):\n",
        "  if a%i==0:\n",
        "    count=count+1\n",
        "print(count)\n",
        "if count>2:\n",
        "  print(a,\" is not a prime number\")\n",
        "else:\n",
        "  print(a,\" is a prime number\")"
      ],
      "metadata": {
        "colab": {
          "base_uri": "https://localhost:8080/"
        },
        "id": "HvBYzhjBDmAy",
        "outputId": "46323377-fabd-46db-93fe-fbff89523be0"
      },
      "execution_count": null,
      "outputs": [
        {
          "output_type": "stream",
          "name": "stdout",
          "text": [
            "6\n",
            "45  is not a prime number\n"
          ]
        }
      ]
    },
    {
      "cell_type": "code",
      "source": [
        "for i in range(1,9):\n",
        "  if i==4:\n",
        "    continue\n",
        "    print(\"hai\")   #this line will not get printed\n",
        "  print(i)\n",
        "print(\"---End of line\")"
      ],
      "metadata": {
        "colab": {
          "base_uri": "https://localhost:8080/"
        },
        "id": "s2pybralFKAy",
        "outputId": "e0966521-fc6a-4ff0-bfea-7bd1940719c1"
      },
      "execution_count": null,
      "outputs": [
        {
          "output_type": "stream",
          "name": "stdout",
          "text": [
            "1\n",
            "2\n",
            "3\n",
            "5\n",
            "6\n",
            "7\n",
            "8\n",
            "---End of line\n"
          ]
        }
      ]
    },
    {
      "cell_type": "code",
      "source": [
        "i=1\n",
        "while i<10:\n",
        "  print(i)\n",
        "  i+=1\n"
      ],
      "metadata": {
        "colab": {
          "base_uri": "https://localhost:8080/"
        },
        "id": "_DUDphiRHvt9",
        "outputId": "a349a2ca-5672-4737-a652-268cd585e476"
      },
      "execution_count": null,
      "outputs": [
        {
          "output_type": "stream",
          "name": "stdout",
          "text": [
            "1\n",
            "2\n",
            "3\n",
            "4\n",
            "5\n",
            "6\n",
            "7\n",
            "8\n",
            "9\n"
          ]
        }
      ]
    },
    {
      "cell_type": "code",
      "source": [
        "# LCM of 4&6\n",
        "a=4\n",
        "b=6\n",
        "if a>b:\n",
        "  greater=a\n",
        "else:\n",
        "  greater=b\n",
        "while(True):\n",
        "  if greater%a==0 and greater%b==0:\n",
        "    print(f\"LCM of {a} and {b} is {greater}\")\n",
        "    break\n",
        "  else:\n",
        "    greater+=1"
      ],
      "metadata": {
        "id": "t5athvfRI_o2",
        "colab": {
          "base_uri": "https://localhost:8080/"
        },
        "outputId": "d9573a7e-10ba-49cb-f686-3af93edd627e"
      },
      "execution_count": null,
      "outputs": [
        {
          "output_type": "stream",
          "name": "stdout",
          "text": [
            "LCM of 4 and 6 is 12\n"
          ]
        }
      ]
    },
    {
      "cell_type": "code",
      "source": [
        "string = input(\"Enter the String: \")\n",
        "s = 0\n",
        "l = len(string) - 1\n",
        "is_palindrome = True\n",
        "\n",
        "while s < l:  # Ensure indices stay within bounds\n",
        "    if string[s] != string[l]:\n",
        "        print(\"String is not a Palindrome\")\n",
        "        is_palindrome = False\n",
        "        break\n",
        "    s += 1\n",
        "    l -= 1\n",
        "\n",
        "if is_palindrome:\n",
        "    print(\"String is a Palindrome\")"
      ],
      "metadata": {
        "colab": {
          "base_uri": "https://localhost:8080/"
        },
        "id": "2wMQQ3Tcymi6",
        "outputId": "71b9a6aa-fc98-4be8-e51c-a91626685d17"
      },
      "execution_count": null,
      "outputs": [
        {
          "output_type": "stream",
          "name": "stdout",
          "text": [
            "Enter the String: daad\n",
            "String is a palindrome\n"
          ]
        }
      ]
    },
    {
      "cell_type": "code",
      "source": [
        "list=[10,4,3,9,12,56,76,86,87,1,8]\n",
        "max=list[0]\n",
        "for i in list:\n",
        "  if i>max:\n",
        "    max=i\n",
        "print(\"Maximum no. in the list is \",max)"
      ],
      "metadata": {
        "colab": {
          "base_uri": "https://localhost:8080/"
        },
        "id": "FDhyKReB3Afa",
        "outputId": "6cc6ba77-51a6-4154-9433-0e151a093f39"
      },
      "execution_count": null,
      "outputs": [
        {
          "output_type": "stream",
          "name": "stdout",
          "text": [
            "Maximum no. in the list is  87\n"
          ]
        }
      ]
    },
    {
      "cell_type": "code",
      "source": [
        "myList=[12,32,45,36,23,4,5,6,2,7]\n",
        "for i in range(0,len(myList)):\n",
        "  for j in range(i+1,len(myList)):\n",
        "    if myList[i]+myList[j]==9:\n",
        "      print(f\"----> {myList[i]} + {myList[j]} = {myList[i]+myList[j]}\")"
      ],
      "metadata": {
        "colab": {
          "base_uri": "https://localhost:8080/"
        },
        "id": "NjH9ydyQ5NEh",
        "outputId": "4b871473-0dc3-416c-b6ae-6b5d19b405e8"
      },
      "execution_count": null,
      "outputs": [
        {
          "output_type": "stream",
          "name": "stdout",
          "text": [
            "----> 4 + 5 = 9\n",
            "----> 2 + 7 = 9\n"
          ]
        }
      ]
    },
    {
      "cell_type": "code",
      "source": [
        "# Pattern 1:\n",
        "for i in range(1,4):\n",
        "  for j in range(1,4):\n",
        "    print(f\"{i} \",end=\" \")\n",
        "  print(\"\\n\")\n",
        "\n",
        "\n",
        "print(\"\\n\\n\")\n",
        "# Pattern 2:\n",
        "a=4\n",
        "for i in range(1,4):\n",
        "  for j in range(1,4):\n",
        "    print(f\"{a} \",end=\" \")\n",
        "  a+=2\n",
        "  print(\"\\n\")\n",
        "\n",
        "\n",
        "print(\"\\n\\n\")\n",
        "# Pattern 3:\n",
        "for i in range(1,4):\n",
        "  for j in range(1,5):\n",
        "    print(f\"{j} \",end=\" \")\n",
        "  print(\"\\n\")\n",
        "\n",
        "\n",
        "print(\"\\n\\n\")\n",
        "# Pattern 4:\n",
        "a=4\n",
        "for i in range(1,4):\n",
        "  for j in range(1,5):\n",
        "    print(f\"{a} \",end=\" \")\n",
        "    a+=1\n",
        "  a=4\n",
        "  print(\"\\n\")\n",
        "\n",
        "\n",
        "print(\"\\n\\n\")\n",
        "# Pattern 5:\n",
        "a=1\n",
        "for i in range(1,4):\n",
        "  for j in range(1,5):\n",
        "    print(f\"{a} \",end=\" \")\n",
        "    a+=1\n",
        "  print(\"\\n\")\n",
        "\n",
        "\n",
        "print(\"\\n\\n\")\n",
        "# Pattern 6:\n",
        "a='A'\n",
        "for i in range(1,4):\n",
        "  for j in range(1,4):\n",
        "    print(f\"{a} \",end=\" \")\n",
        "    a=chr(ord(a)+1)\n",
        "  a='A'\n",
        "  print(\"\\n\")\n"
      ],
      "metadata": {
        "colab": {
          "base_uri": "https://localhost:8080/"
        },
        "id": "dH7pC_u-Byr-",
        "outputId": "dd56997f-a173-49f9-ce6d-a1c9ee97dfdc"
      },
      "execution_count": null,
      "outputs": [
        {
          "output_type": "stream",
          "name": "stdout",
          "text": [
            "1  1  1  \n",
            "\n",
            "2  2  2  \n",
            "\n",
            "3  3  3  \n",
            "\n",
            "\n",
            "\n",
            "\n",
            "4  4  4  \n",
            "\n",
            "6  6  6  \n",
            "\n",
            "8  8  8  \n",
            "\n",
            "\n",
            "\n",
            "\n",
            "1  2  3  4  \n",
            "\n",
            "1  2  3  4  \n",
            "\n",
            "1  2  3  4  \n",
            "\n",
            "\n",
            "\n",
            "\n",
            "4  5  6  7  \n",
            "\n",
            "4  5  6  7  \n",
            "\n",
            "4  5  6  7  \n",
            "\n",
            "\n",
            "\n",
            "\n",
            "1  2  3  4  \n",
            "\n",
            "5  6  7  8  \n",
            "\n",
            "9  10  11  12  \n",
            "\n",
            "\n",
            "\n",
            "\n",
            "A  B  C  \n",
            "\n",
            "A  B  C  \n",
            "\n",
            "A  B  C  \n",
            "\n"
          ]
        }
      ]
    },
    {
      "cell_type": "code",
      "source": [
        "# Pattern 1:\n",
        "for i in range(1,5):\n",
        "  for j in range(1,i+1):\n",
        "    print(\"* \",end=\" \")\n",
        "  print(\"\\n\")\n",
        "\n",
        "\n",
        "print(\"\\n\\n\")\n",
        "# PAttern 2:\n",
        "for i in range(1,5):\n",
        "  for j in range(1,i+1):\n",
        "    print(j,end=\" \")\n",
        "  print(\"\\n\")\n",
        "\n",
        "\n",
        "print(\"\\n\\n\")\n",
        "\n",
        "# Pattern 3:\n",
        "for i in range(1,5):\n",
        "  a=4\n",
        "  for j in range(1,i+1):\n",
        "    print(a,end=\" \")\n",
        "    a+=1\n",
        "  print(\"\\n\")\n",
        "\n",
        "\n",
        "print(\"\\n\\n\")\n",
        "# Pattern 4:\n",
        "a=1\n",
        "for i in range(1,5):\n",
        "  for j in range(1,i+1):\n",
        "    print(a,end=\" \")\n",
        "    a+=1\n",
        "  print(\"\\n\")\n",
        "\n",
        "\n",
        "print(\"\\n\\n\")\n",
        "# Pattern 5:\n",
        "a='A'\n",
        "for i in range(1,5):\n",
        "  for j in range(1,i+1):\n",
        "    print(a,end=\" \")\n",
        "    a=chr(ord(a)+1)\n",
        "  print(\"\\n\")\n",
        "\n",
        "\n",
        "print(\"\\n\\n\")\n",
        "# Pattern 6:\n",
        "for i in range(1,5):\n",
        "  a=i\n",
        "  for j in range(1,i+1):\n",
        "    print(a,end=\" \")\n",
        "    a+=1\n",
        "  print(\"\\n\")"
      ],
      "metadata": {
        "colab": {
          "base_uri": "https://localhost:8080/"
        },
        "id": "t61l48Fa9vxB",
        "outputId": "9fbfb090-c615-4de3-9ad9-30ee3355b070"
      },
      "execution_count": null,
      "outputs": [
        {
          "output_type": "stream",
          "name": "stdout",
          "text": [
            "*  \n",
            "\n",
            "*  *  \n",
            "\n",
            "*  *  *  \n",
            "\n",
            "*  *  *  *  \n",
            "\n",
            "\n",
            "\n",
            "\n",
            "1 \n",
            "\n",
            "1 2 \n",
            "\n",
            "1 2 3 \n",
            "\n",
            "1 2 3 4 \n",
            "\n",
            "\n",
            "\n",
            "\n",
            "4 \n",
            "\n",
            "4 5 \n",
            "\n",
            "4 5 6 \n",
            "\n",
            "4 5 6 7 \n",
            "\n",
            "\n",
            "\n",
            "\n",
            "1 \n",
            "\n",
            "2 3 \n",
            "\n",
            "4 5 6 \n",
            "\n",
            "7 8 9 10 \n",
            "\n",
            "\n",
            "\n",
            "\n",
            "A \n",
            "\n",
            "B C \n",
            "\n",
            "D E F \n",
            "\n",
            "G H I J \n",
            "\n",
            "\n",
            "\n",
            "\n",
            "1 \n",
            "\n",
            "2 3 \n",
            "\n",
            "3 4 5 \n",
            "\n",
            "4 5 6 7 \n",
            "\n"
          ]
        }
      ]
    },
    {
      "cell_type": "code",
      "source": [
        "# Pattern 1:\n",
        "for i in range(1,5):\n",
        "  for j in range(1,5-i):\n",
        "    print(\"- \",end=\" \")\n",
        "  for j in range(1,i+1):\n",
        "    print(\"* \",end=\" \")\n",
        "  print(\"\")\n",
        "\n",
        "\n",
        "print(\"\\n\")\n",
        "# Pattern 2:\n",
        "for i in range(0,5):\n",
        "  for j in range(1,i+1):\n",
        "    print(\"- \",end=\" \")\n",
        "  for j in range(0,5-i):\n",
        "    print(\"* \",end=\" \")\n",
        "  print(\"\")\n",
        "\n",
        "\n",
        "print(\"\\n\")\n",
        "# Pattern 3:\n",
        "for i in range(1,5):\n",
        "  for j in range(1,i+1):\n",
        "    if (i-j)%2==0:\n",
        "      print(\"1\",end=\" \")\n",
        "    else:\n",
        "      print(\"0\",end=\" \")\n",
        "  print(\"\\n\")"
      ],
      "metadata": {
        "colab": {
          "base_uri": "https://localhost:8080/"
        },
        "id": "dqHfsAxOIKGp",
        "outputId": "e4411e27-ed80-444e-9765-e5eef3872339"
      },
      "execution_count": null,
      "outputs": [
        {
          "output_type": "stream",
          "name": "stdout",
          "text": [
            "-  -  -  *  \n",
            "-  -  *  *  \n",
            "-  *  *  *  \n",
            "*  *  *  *  \n",
            "\n",
            "\n",
            "*  *  *  *  *  \n",
            "-  *  *  *  *  \n",
            "-  -  *  *  *  \n",
            "-  -  -  *  *  \n",
            "-  -  -  -  *  \n",
            "\n",
            "\n",
            "1 \n",
            "\n",
            "0 1 \n",
            "\n",
            "1 0 1 \n",
            "\n",
            "0 1 0 1 \n",
            "\n"
          ]
        }
      ]
    },
    {
      "cell_type": "code",
      "source": [
        "for i in range(0,5):\n",
        "  for j in range(0,i+1):\n",
        "    print(\"* \",end=\" \")\n",
        "  print(\"\\n\")\n",
        "for i in range(5,0,-1):\n",
        "  for j in range(0,i-1):\n",
        "    print(\"* \",end=\" \")\n",
        "  print(\"\\n\")"
      ],
      "metadata": {
        "colab": {
          "base_uri": "https://localhost:8080/"
        },
        "id": "_VJ9Ge7hAxJY",
        "outputId": "1fe76751-5301-4f92-b905-3dfb080bca15"
      },
      "execution_count": null,
      "outputs": [
        {
          "output_type": "stream",
          "name": "stdout",
          "text": [
            "*  \n",
            "\n",
            "*  *  \n",
            "\n",
            "*  *  *  \n",
            "\n",
            "*  *  *  *  \n",
            "\n",
            "*  *  *  *  *  \n",
            "\n",
            "*  *  *  *  \n",
            "\n",
            "*  *  *  \n",
            "\n",
            "*  *  \n",
            "\n",
            "*  \n",
            "\n",
            "\n",
            "\n"
          ]
        }
      ]
    },
    {
      "cell_type": "code",
      "source": [
        "data=\"user\"\n",
        "mydict={}\n",
        "for i in range(0,len(data)):\n",
        "  mydict[data[i]]=i\n",
        "print(mydict)"
      ],
      "metadata": {
        "colab": {
          "base_uri": "https://localhost:8080/"
        },
        "id": "B-XIyLDpFS75",
        "outputId": "bac8fe3e-a806-487a-8082-475af0aea28e"
      },
      "execution_count": null,
      "outputs": [
        {
          "output_type": "stream",
          "name": "stdout",
          "text": [
            "{'u': 0, 's': 1, 'e': 2, 'r': 3}\n"
          ]
        }
      ]
    },
    {
      "cell_type": "code",
      "source": [
        "data=\"hey ishaeeeaaa\"\n",
        "mydict={}\n",
        "# vowel=['a','e','i','o','u']\n",
        "for i in data:\n",
        "  if i in \"aeiou\":\n",
        "    if i not in mydict:\n",
        "      mydict[i]=1\n",
        "    else:\n",
        "      mydict[i]=mydict[i]+1\n",
        "print(mydict)\n"
      ],
      "metadata": {
        "colab": {
          "base_uri": "https://localhost:8080/"
        },
        "id": "SsE8qm1YG_ko",
        "outputId": "5336a352-65dc-4a47-9428-97d59be09b27"
      },
      "execution_count": null,
      "outputs": [
        {
          "output_type": "stream",
          "name": "stdout",
          "text": [
            "{'e': 4, 'i': 1, 'a': 4}\n"
          ]
        }
      ]
    },
    {
      "cell_type": "code",
      "source": [
        "#list comprihension\n",
        "[i+5 for i in [10,20,30,40]]\n",
        "\n",
        "#dictonary comprehension\n",
        "{char:1 for char in \"hey\"}"
      ],
      "metadata": {
        "colab": {
          "base_uri": "https://localhost:8080/"
        },
        "id": "ONEZ7h_UMKxW",
        "outputId": "3c1fbb27-7ba8-4092-b6b0-9cdb575f7e4c"
      },
      "execution_count": null,
      "outputs": [
        {
          "output_type": "execute_result",
          "data": {
            "text/plain": [
              "{'h': 1, 'e': 1, 'y': 1}"
            ]
          },
          "metadata": {},
          "execution_count": 14
        }
      ]
    },
    {
      "cell_type": "code",
      "source": [
        "name=\"Hanwant\"\n",
        "def detail():\n",
        "  name=\"Kartik\"\n",
        "  print(\"Local Name = \",name)\n",
        "\n",
        "detail()\n",
        "print(\"Global name= \",name)"
      ],
      "metadata": {
        "colab": {
          "base_uri": "https://localhost:8080/"
        },
        "id": "ty58oiJrNnb6",
        "outputId": "9a6b362c-73ed-4502-fa04-12455268d753"
      },
      "execution_count": null,
      "outputs": [
        {
          "output_type": "stream",
          "name": "stdout",
          "text": [
            "Local Name =  Kartik\n",
            "Global name=  Hanwant\n"
          ]
        }
      ]
    },
    {
      "cell_type": "code",
      "source": [
        "num=10\n",
        "def sum(num):\n",
        "  i=0\n",
        "  j=0\n",
        "  if i<=num:\n",
        "    j+=i\n",
        "    i+=1\n",
        "    sum(num)\n",
        "print(sum(num))"
      ],
      "metadata": {
        "id": "HjjAgFzDSOJG"
      },
      "execution_count": null,
      "outputs": []
    },
    {
      "cell_type": "code",
      "source": [
        "def pattern(num):\n",
        "    for i in range(0,num+1):\n",
        "        x=1\n",
        "        for j in range(1,i+1):\n",
        "            print(\"-\",end=\" \")\n",
        "        for j in range(0,num+1-i):\n",
        "            print(x,end=\" \")\n",
        "            x+=1\n",
        "        print(\"\")\n",
        "num=4\n",
        "pattern(num)"
      ],
      "metadata": {
        "id": "XMQy5EwXUsyE"
      },
      "execution_count": null,
      "outputs": []
    },
    {
      "cell_type": "code",
      "source": [
        "def lcm(a,b):\n",
        "  if a>b:\n",
        "    greater=a\n",
        "  else:\n",
        "    greater=b\n",
        "  while(True):\n",
        "    if greater%a==0 and greater%b==0:\n",
        "      print(f\"LCM of {a} and {b} is {greater}\")\n",
        "      break\n",
        "    else:\n",
        "      greater+=1\n",
        "a=4\n",
        "b=5\n",
        "lcm(a,b)"
      ],
      "metadata": {
        "id": "1C84weAeWvMB"
      },
      "execution_count": null,
      "outputs": []
    },
    {
      "cell_type": "code",
      "source": [
        "y=lambda num : num+5\n",
        "y(10)"
      ],
      "metadata": {
        "id": "qyQH3yCWWwEg",
        "colab": {
          "base_uri": "https://localhost:8080/"
        },
        "outputId": "79f1b223-efad-4a49-9a30-55b01236be59"
      },
      "execution_count": null,
      "outputs": [
        {
          "output_type": "execute_result",
          "data": {
            "text/plain": [
              "15"
            ]
          },
          "metadata": {},
          "execution_count": 4
        }
      ]
    },
    {
      "cell_type": "code",
      "source": [
        "# map() => element => return\n",
        "#[10.20,30,40]\n",
        "#loads each element one by one\n",
        "#cant apply map on integers\n",
        "\n",
        "list(map(len,[\"hey\",\"hello\"]))"
      ],
      "metadata": {
        "colab": {
          "base_uri": "https://localhost:8080/"
        },
        "id": "vpl7-z12QdbZ",
        "outputId": "edcf9515-ca6e-472f-d57d-0bcbb8c6c064"
      },
      "execution_count": null,
      "outputs": [
        {
          "output_type": "execute_result",
          "data": {
            "text/plain": [
              "[3, 5]"
            ]
          },
          "metadata": {},
          "execution_count": 6
        }
      ]
    },
    {
      "cell_type": "code",
      "source": [
        "list(map(lambda x: x%2==0,[10,5,4,3]))\n",
        "#[True, False, True, False]\n",
        "list(filter(lambda x: x%2==0,[10,5,4,3]))\n",
        "#(10, 4)"
      ],
      "metadata": {
        "colab": {
          "base_uri": "https://localhost:8080/"
        },
        "id": "uVBa0vb_SsAE",
        "outputId": "bf55a50e-25a0-4a3f-8c85-481572206a9d"
      },
      "execution_count": null,
      "outputs": [
        {
          "output_type": "execute_result",
          "data": {
            "text/plain": [
              "[True, False, True, False]"
            ]
          },
          "metadata": {},
          "execution_count": 15
        }
      ]
    }
  ]
}